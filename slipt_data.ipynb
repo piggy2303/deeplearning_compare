{
 "cells": [
  {
   "cell_type": "code",
   "execution_count": 47,
   "metadata": {},
   "outputs": [],
   "source": [
    "import scipy.io\n",
    "import os\n",
    "\n",
    "mat = scipy.io.loadmat('imagelabels.mat')\n",
    "label_list = mat['labels'][0]\n",
    "label_list\n",
    "\n",
    "setid = scipy.io.loadmat('setid.mat')\n",
    "setid_train = setid[\"trnid\"][0]\n",
    "setid_valid = setid[\"valid\"][0]\n",
    "setid_test = setid[\"tstid\"][0]\n",
    "\n",
    "len(setid_test)\n",
    "\n",
    "folder_img = \"./102flowers/jpg/\"\n",
    "\n",
    "for i in setid_valid:\n",
    "    i = convert_str(i)\n",
    "    os.rename(folder_img + i,folder_img +'valid/' + i)"
   ]
  },
  {
   "cell_type": "code",
   "execution_count": 75,
   "metadata": {},
   "outputs": [],
   "source": [
    "from pathlib import Path\n",
    "folder = \"./102flowers/jpg/valid/\"\n",
    "\n",
    "list_img = os.listdir(folder)\n",
    "list_img.sort()\n",
    "# (label_list)\n",
    "list_img\n",
    "\n",
    "for i in list_img:\n",
    "    label = label_list[convert_int(i)-1]\n",
    "    \n",
    "    Path(folder+str(label)).mkdir(parents=True, exist_ok=True)\n",
    "    os.rename(folder+i,folder+str(label)+\"/\"+i)\n",
    "    "
   ]
  },
  {
   "cell_type": "code",
   "execution_count": 38,
   "metadata": {},
   "outputs": [
    {
     "data": {
      "text/plain": [
       "'image_01000.jpg'"
      ]
     },
     "execution_count": 38,
     "metadata": {},
     "output_type": "execute_result"
    }
   ],
   "source": [
    "def convert_str(i):\n",
    "    if i < 10:\n",
    "        result = \"image_0000\" + str(i)+\".jpg\"\n",
    "    elif i < 100:\n",
    "        result = \"image_000\" + str(i)+\".jpg\"\n",
    "    elif i < 1000:\n",
    "        result = \"image_00\" + str(i)+\".jpg\"\n",
    "    elif i < 10000:\n",
    "        result = \"image_0\" + str(i)+\".jpg\"\n",
    "        \n",
    "    return result"
   ]
  },
  {
   "cell_type": "code",
   "execution_count": 60,
   "metadata": {},
   "outputs": [
    {
     "data": {
      "text/plain": [
       "380"
      ]
     },
     "execution_count": 60,
     "metadata": {},
     "output_type": "execute_result"
    }
   ],
   "source": [
    "def convert_int(i):\n",
    "    i = i.split(\"_\")[1].split(\".\")[0]\n",
    "    i = (int(i))\n",
    "    return i\n",
    "    \n",
    "convert_int(\"image_00380.jpg\")"
   ]
  }
 ],
 "metadata": {
  "kernelspec": {
   "display_name": "Python 3",
   "language": "python",
   "name": "python3"
  },
  "language_info": {
   "codemirror_mode": {
    "name": "ipython",
    "version": 3
   },
   "file_extension": ".py",
   "mimetype": "text/x-python",
   "name": "python",
   "nbconvert_exporter": "python",
   "pygments_lexer": "ipython3",
   "version": "3.7.3"
  }
 },
 "nbformat": 4,
 "nbformat_minor": 2
}
